{
 "cells": [
  {
   "cell_type": "markdown",
   "metadata": {},
   "source": [
    "## Importing Modules"
   ]
  },
  {
   "cell_type": "code",
   "execution_count": 1,
   "metadata": {},
   "outputs": [],
   "source": [
    "import os\n",
    "import matplotlib.pyplot as plt\n",
    "from tensorflow.keras.models import Sequential\n",
    "from tensorflow.keras.layers import Dense, Flatten, Conv2D, MaxPooling2D, Dropout\n",
    "from tensorflow.keras.losses import sparse_categorical_crossentropy\n",
    "from tensorflow.keras.optimizers import Adam\n",
    "from tensorflow.keras.preprocessing.image import ImageDataGenerator"
   ]
  },
  {
   "cell_type": "markdown",
   "metadata": {},
   "source": [
    "## Loading the Dataset"
   ]
  },
  {
   "cell_type": "code",
   "execution_count": 2,
   "metadata": {},
   "outputs": [
    {
     "data": {
      "text/plain": [
       "['test', 'train']"
      ]
     },
     "execution_count": 2,
     "metadata": {},
     "output_type": "execute_result"
    }
   ],
   "source": [
    "main_dir = \"/home/archihalder/Projects/Fruit Classifier/Classes\"\n",
    "os.listdir(main_dir)"
   ]
  },
  {
   "cell_type": "code",
   "execution_count": 3,
   "metadata": {},
   "outputs": [
    {
     "data": {
      "text/plain": [
       "['Orange', 'Banana', 'Mango', 'Apple', 'Pineapple']"
      ]
     },
     "execution_count": 3,
     "metadata": {},
     "output_type": "execute_result"
    }
   ],
   "source": [
    "test_dir = main_dir + '/test'\n",
    "os.listdir(test_dir)"
   ]
  },
  {
   "cell_type": "code",
   "execution_count": 4,
   "metadata": {},
   "outputs": [
    {
     "data": {
      "text/plain": [
       "['Orange', 'Banana', 'Mango', 'Apple', 'Pineapple']"
      ]
     },
     "execution_count": 4,
     "metadata": {},
     "output_type": "execute_result"
    }
   ],
   "source": [
    "train_dir = main_dir + '/train'\n",
    "os.listdir(train_dir)"
   ]
  },
  {
   "cell_type": "markdown",
   "metadata": {},
   "source": [
    "## Train Set"
   ]
  },
  {
   "cell_type": "code",
   "execution_count": 5,
   "metadata": {},
   "outputs": [
    {
     "name": "stdout",
     "output_type": "stream",
     "text": [
      "Found 1800 images belonging to 5 classes.\n",
      "Found 445 images belonging to 5 classes.\n",
      "{'Apple': 0, 'Banana': 1, 'Mango': 2, 'Orange': 3, 'Pineapple': 4}\n"
     ]
    }
   ],
   "source": [
    "# Creating a data generator\n",
    "train = ImageDataGenerator(\n",
    "  rescale=1./255, \n",
    "    horizontal_flip = True,\n",
    "    vertical_flip = True,\n",
    "    validation_split = 0.2\n",
    ")\n",
    "train_datagen = train.flow_from_directory(\n",
    "        train_dir,\n",
    "        batch_size=32,\n",
    "        target_size=(128,128),\n",
    "        class_mode='sparse',\n",
    "        subset = 'training')\n",
    "\n",
    "val_datagen = train.flow_from_directory(\n",
    "        train_dir,\n",
    "        batch_size=32,\n",
    "        target_size=(128,128),\n",
    "        class_mode='sparse',\n",
    "        subset = 'validation')\n",
    "\n",
    "# Printing the training set\n",
    "train_labels = (train_datagen.class_indices)\n",
    "print(train_labels)"
   ]
  },
  {
   "cell_type": "markdown",
   "metadata": {},
   "source": [
    "## Test Set"
   ]
  },
  {
   "cell_type": "code",
   "execution_count": 6,
   "metadata": {},
   "outputs": [
    {
     "name": "stdout",
     "output_type": "stream",
     "text": [
      "Found 755 images belonging to 5 classes.\n",
      "{'Apple': 0, 'Banana': 1, 'Mango': 2, 'Orange': 3, 'Pineapple': 4}\n"
     ]
    }
   ],
   "source": [
    "# Create a data generator\n",
    "test_datagen = ImageDataGenerator(\n",
    "  rescale=1./255,\n",
    "    horizontal_flip = True,\n",
    "    vertical_flip = True\n",
    ")\n",
    "test_datagen = test_datagen.flow_from_directory(\n",
    "        test_dir,\n",
    "        batch_size=32,\n",
    "        target_size=(128,128),\n",
    "        class_mode='sparse')\n",
    "\n",
    "# Printing the test set\n",
    "test_labels = (test_datagen.class_indices)\n",
    "print(test_labels)"
   ]
  },
  {
   "cell_type": "markdown",
   "metadata": {},
   "source": [
    "## Image Configuration"
   ]
  },
  {
   "cell_type": "code",
   "execution_count": 7,
   "metadata": {},
   "outputs": [
    {
     "data": {
      "text/plain": [
       "((32, 128, 128, 3), (32,))"
      ]
     },
     "execution_count": 7,
     "metadata": {},
     "output_type": "execute_result"
    }
   ],
   "source": [
    "for image_batch, label_batch in train_datagen:\n",
    "    break\n",
    "image_batch.shape, label_batch.shape\n",
    "\n",
    "# This would be same for test set"
   ]
  },
  {
   "cell_type": "markdown",
   "metadata": {},
   "source": [
    "## Building the Model"
   ]
  },
  {
   "cell_type": "code",
   "execution_count": 8,
   "metadata": {},
   "outputs": [
    {
     "name": "stdout",
     "output_type": "stream",
     "text": [
      "Model: \"sequential\"\n",
      "_________________________________________________________________\n",
      "Layer (type)                 Output Shape              Param #   \n",
      "=================================================================\n",
      "conv2d (Conv2D)              (None, 128, 128, 32)      896       \n",
      "_________________________________________________________________\n",
      "max_pooling2d (MaxPooling2D) (None, 64, 64, 32)        0         \n",
      "_________________________________________________________________\n",
      "conv2d_1 (Conv2D)            (None, 64, 64, 64)        18496     \n",
      "_________________________________________________________________\n",
      "max_pooling2d_1 (MaxPooling2 (None, 32, 32, 64)        0         \n",
      "_________________________________________________________________\n",
      "conv2d_2 (Conv2D)            (None, 32, 32, 32)        18464     \n",
      "_________________________________________________________________\n",
      "max_pooling2d_2 (MaxPooling2 (None, 16, 16, 32)        0         \n",
      "_________________________________________________________________\n",
      "flatten (Flatten)            (None, 8192)              0         \n",
      "_________________________________________________________________\n",
      "dense (Dense)                (None, 64)                524352    \n",
      "_________________________________________________________________\n",
      "dropout (Dropout)            (None, 64)                0         \n",
      "_________________________________________________________________\n",
      "dense_1 (Dense)              (None, 32)                2080      \n",
      "_________________________________________________________________\n",
      "dropout_1 (Dropout)          (None, 32)                0         \n",
      "_________________________________________________________________\n",
      "dense_2 (Dense)              (None, 5)                 165       \n",
      "=================================================================\n",
      "Total params: 564,453\n",
      "Trainable params: 564,453\n",
      "Non-trainable params: 0\n",
      "_________________________________________________________________\n"
     ]
    }
   ],
   "source": [
    "model=Sequential()\n",
    "\n",
    "#Convolution blocks\n",
    "model.add(Conv2D(32, kernel_size = (3,3), \n",
    "                 padding='same',\n",
    "                 input_shape=(128,128,3),\n",
    "                 activation='relu'))\n",
    "model.add(MaxPooling2D(pool_size=2)) \n",
    "\n",
    "model.add(Conv2D(64, kernel_size = (3,3), \n",
    "                 padding='same',\n",
    "                 activation='relu'))\n",
    "model.add(MaxPooling2D(pool_size=2)) \n",
    "\n",
    "model.add(Conv2D(32, kernel_size = (3,3), \n",
    "                 padding='same',\n",
    "                 activation='relu'))\n",
    "model.add(MaxPooling2D(pool_size=2))\n",
    "\n",
    "#Classification layers\n",
    "model.add(Flatten())\n",
    "\n",
    "model.add(Dense(64,activation='relu'))\n",
    "model.add(Dropout(0.2))\n",
    "model.add(Dense(32,activation='relu'))\n",
    "\n",
    "model.add(Dropout(0.2))\n",
    "model.add(Dense(5,activation='softmax'))\n",
    "\n",
    "\n",
    "model.summary()"
   ]
  },
  {
   "cell_type": "markdown",
   "metadata": {},
   "source": [
    "## Compiling the Model"
   ]
  },
  {
   "cell_type": "code",
   "execution_count": 9,
   "metadata": {},
   "outputs": [],
   "source": [
    "model.compile(optimizer = 'Adam', \n",
    "              loss = 'sparse_categorical_crossentropy', \n",
    "              metrics = ['accuracy'])"
   ]
  },
  {
   "cell_type": "markdown",
   "metadata": {},
   "source": [
    "## Training the Model"
   ]
  },
  {
   "cell_type": "code",
   "execution_count": 10,
   "metadata": {},
   "outputs": [
    {
     "name": "stdout",
     "output_type": "stream",
     "text": [
      "Epoch 1/40\n",
      "57/57 [==============================] - 24s 407ms/step - loss: 1.5726 - accuracy: 0.2240 - val_loss: 1.0185 - val_accuracy: 0.4876\n",
      "Epoch 2/40\n",
      "57/57 [==============================] - 24s 426ms/step - loss: 0.8884 - accuracy: 0.6388 - val_loss: 0.5869 - val_accuracy: 0.7618\n",
      "Epoch 3/40\n",
      "57/57 [==============================] - 24s 422ms/step - loss: 0.6793 - accuracy: 0.7464 - val_loss: 0.5998 - val_accuracy: 0.7596\n",
      "Epoch 4/40\n",
      "57/57 [==============================] - 24s 421ms/step - loss: 0.5943 - accuracy: 0.7886 - val_loss: 0.2831 - val_accuracy: 0.9416\n",
      "Epoch 5/40\n",
      "57/57 [==============================] - 25s 436ms/step - loss: 0.5485 - accuracy: 0.8167 - val_loss: 0.5926 - val_accuracy: 0.6607\n",
      "Epoch 6/40\n",
      "57/57 [==============================] - 27s 478ms/step - loss: 0.5492 - accuracy: 0.7971 - val_loss: 0.6421 - val_accuracy: 0.7528\n",
      "Epoch 7/40\n",
      "57/57 [==============================] - 26s 458ms/step - loss: 0.4558 - accuracy: 0.8318 - val_loss: 0.2569 - val_accuracy: 0.9169\n",
      "Epoch 8/40\n",
      "57/57 [==============================] - 26s 452ms/step - loss: 0.4709 - accuracy: 0.8301 - val_loss: 0.2281 - val_accuracy: 0.9258\n",
      "Epoch 9/40\n",
      "57/57 [==============================] - 27s 471ms/step - loss: 0.4564 - accuracy: 0.8313 - val_loss: 0.5146 - val_accuracy: 0.7528\n",
      "Epoch 10/40\n",
      "57/57 [==============================] - 25s 443ms/step - loss: 0.4549 - accuracy: 0.8326 - val_loss: 0.2333 - val_accuracy: 0.9281\n",
      "Epoch 11/40\n",
      "57/57 [==============================] - 25s 437ms/step - loss: 0.4155 - accuracy: 0.8420 - val_loss: 0.2439 - val_accuracy: 0.9461\n",
      "Epoch 12/40\n",
      "57/57 [==============================] - 28s 489ms/step - loss: 0.4423 - accuracy: 0.8505 - val_loss: 0.5302 - val_accuracy: 0.7551\n",
      "Epoch 13/40\n",
      "57/57 [==============================] - 34s 602ms/step - loss: 0.4313 - accuracy: 0.8450 - val_loss: 0.2891 - val_accuracy: 0.9393\n",
      "Epoch 14/40\n",
      "57/57 [==============================] - 36s 625ms/step - loss: 0.3799 - accuracy: 0.8617 - val_loss: 0.2809 - val_accuracy: 0.9258\n",
      "Epoch 15/40\n",
      "57/57 [==============================] - 35s 615ms/step - loss: 0.3437 - accuracy: 0.8718 - val_loss: 0.3811 - val_accuracy: 0.8180\n",
      "Epoch 16/40\n",
      "57/57 [==============================] - 35s 609ms/step - loss: 0.3668 - accuracy: 0.8711 - val_loss: 0.2870 - val_accuracy: 0.9438\n",
      "Epoch 17/40\n",
      "57/57 [==============================] - 35s 617ms/step - loss: 0.3233 - accuracy: 0.8774 - val_loss: 0.5002 - val_accuracy: 0.7618\n",
      "Epoch 18/40\n",
      "57/57 [==============================] - 31s 540ms/step - loss: 0.3611 - accuracy: 0.8643 - val_loss: 0.2638 - val_accuracy: 0.9416\n",
      "Epoch 19/40\n",
      "57/57 [==============================] - 29s 504ms/step - loss: 0.3373 - accuracy: 0.8739 - val_loss: 0.2879 - val_accuracy: 0.8944\n",
      "Epoch 20/40\n",
      "57/57 [==============================] - 30s 524ms/step - loss: 0.3067 - accuracy: 0.8831 - val_loss: 0.2579 - val_accuracy: 0.9258\n",
      "Epoch 21/40\n",
      "57/57 [==============================] - 38s 668ms/step - loss: 0.2933 - accuracy: 0.8852 - val_loss: 0.3645 - val_accuracy: 0.8247\n",
      "Epoch 22/40\n",
      "57/57 [==============================] - 36s 631ms/step - loss: 0.2790 - accuracy: 0.8917 - val_loss: 0.2520 - val_accuracy: 0.9461\n",
      "Epoch 23/40\n",
      "57/57 [==============================] - 36s 635ms/step - loss: 0.2876 - accuracy: 0.8961 - val_loss: 0.2872 - val_accuracy: 0.8921\n",
      "Epoch 24/40\n",
      "57/57 [==============================] - 34s 596ms/step - loss: 0.2527 - accuracy: 0.9051 - val_loss: 0.3382 - val_accuracy: 0.8854\n",
      "Epoch 25/40\n",
      "57/57 [==============================] - 26s 462ms/step - loss: 0.3052 - accuracy: 0.8830 - val_loss: 0.3009 - val_accuracy: 0.8449\n",
      "Epoch 26/40\n",
      "57/57 [==============================] - 30s 533ms/step - loss: 0.2462 - accuracy: 0.9073 - val_loss: 0.3261 - val_accuracy: 0.8719\n",
      "Epoch 27/40\n",
      "57/57 [==============================] - 27s 465ms/step - loss: 0.2875 - accuracy: 0.8934 - val_loss: 0.2235 - val_accuracy: 0.9506\n",
      "Epoch 28/40\n",
      "57/57 [==============================] - 27s 469ms/step - loss: 0.2519 - accuracy: 0.9073 - val_loss: 0.2213 - val_accuracy: 0.9483\n",
      "Epoch 29/40\n",
      "57/57 [==============================] - 28s 496ms/step - loss: 0.1931 - accuracy: 0.9300 - val_loss: 0.2499 - val_accuracy: 0.9483\n",
      "Epoch 30/40\n",
      "57/57 [==============================] - 30s 526ms/step - loss: 0.2650 - accuracy: 0.9126 - val_loss: 0.2385 - val_accuracy: 0.9483\n",
      "Epoch 31/40\n",
      "57/57 [==============================] - 29s 506ms/step - loss: 0.2255 - accuracy: 0.9105 - val_loss: 0.2099 - val_accuracy: 0.9483\n",
      "Epoch 32/40\n",
      "57/57 [==============================] - 33s 577ms/step - loss: 0.2070 - accuracy: 0.9235 - val_loss: 0.2086 - val_accuracy: 0.9371\n",
      "Epoch 33/40\n",
      "57/57 [==============================] - 34s 591ms/step - loss: 0.1798 - accuracy: 0.9345 - val_loss: 0.2321 - val_accuracy: 0.9528\n",
      "Epoch 34/40\n",
      "57/57 [==============================] - 32s 562ms/step - loss: 0.1716 - accuracy: 0.9338 - val_loss: 0.1812 - val_accuracy: 0.9528\n",
      "Epoch 35/40\n",
      "57/57 [==============================] - 31s 553ms/step - loss: 0.1802 - accuracy: 0.9326 - val_loss: 0.4490 - val_accuracy: 0.8831\n",
      "Epoch 36/40\n",
      "57/57 [==============================] - 29s 514ms/step - loss: 0.1781 - accuracy: 0.9348 - val_loss: 0.2114 - val_accuracy: 0.9461\n",
      "Epoch 37/40\n",
      "57/57 [==============================] - 29s 500ms/step - loss: 0.1801 - accuracy: 0.9368 - val_loss: 0.2488 - val_accuracy: 0.9371\n",
      "Epoch 38/40\n",
      "57/57 [==============================] - 39s 691ms/step - loss: 0.1884 - accuracy: 0.9389 - val_loss: 0.2087 - val_accuracy: 0.9483\n",
      "Epoch 39/40\n",
      "57/57 [==============================] - 36s 630ms/step - loss: 0.1696 - accuracy: 0.9409 - val_loss: 0.3638 - val_accuracy: 0.8854\n",
      "Epoch 40/40\n",
      "57/57 [==============================] - 38s 675ms/step - loss: 0.1707 - accuracy: 0.9291 - val_loss: 0.2257 - val_accuracy: 0.9528\n"
     ]
    }
   ],
   "source": [
    "trained_model = model.fit(train_datagen, epochs=40, \n",
    "                          batch_size = 32, \n",
    "                          validation_data = val_datagen, verbose = 1)"
   ]
  },
  {
   "cell_type": "markdown",
   "metadata": {},
   "source": [
    "## Saving the Model"
   ]
  },
  {
   "cell_type": "code",
   "execution_count": 12,
   "metadata": {},
   "outputs": [],
   "source": [
    "model.save('model.h5')"
   ]
  },
  {
   "cell_type": "code",
   "execution_count": 13,
   "metadata": {},
   "outputs": [],
   "source": [
    "from tensorflow import keras\n",
    "model = keras.models.load_model('model.h5')"
   ]
  },
  {
   "cell_type": "code",
   "execution_count": 14,
   "metadata": {},
   "outputs": [
    {
     "name": "stdout",
     "output_type": "stream",
     "text": [
      "Model: \"sequential\"\n",
      "_________________________________________________________________\n",
      "Layer (type)                 Output Shape              Param #   \n",
      "=================================================================\n",
      "conv2d (Conv2D)              (None, 128, 128, 32)      896       \n",
      "_________________________________________________________________\n",
      "max_pooling2d (MaxPooling2D) (None, 64, 64, 32)        0         \n",
      "_________________________________________________________________\n",
      "conv2d_1 (Conv2D)            (None, 64, 64, 64)        18496     \n",
      "_________________________________________________________________\n",
      "max_pooling2d_1 (MaxPooling2 (None, 32, 32, 64)        0         \n",
      "_________________________________________________________________\n",
      "conv2d_2 (Conv2D)            (None, 32, 32, 32)        18464     \n",
      "_________________________________________________________________\n",
      "max_pooling2d_2 (MaxPooling2 (None, 16, 16, 32)        0         \n",
      "_________________________________________________________________\n",
      "flatten (Flatten)            (None, 8192)              0         \n",
      "_________________________________________________________________\n",
      "dense (Dense)                (None, 64)                524352    \n",
      "_________________________________________________________________\n",
      "dropout (Dropout)            (None, 64)                0         \n",
      "_________________________________________________________________\n",
      "dense_1 (Dense)              (None, 32)                2080      \n",
      "_________________________________________________________________\n",
      "dropout_1 (Dropout)          (None, 32)                0         \n",
      "_________________________________________________________________\n",
      "dense_2 (Dense)              (None, 5)                 165       \n",
      "=================================================================\n",
      "Total params: 564,453\n",
      "Trainable params: 564,453\n",
      "Non-trainable params: 0\n",
      "_________________________________________________________________\n"
     ]
    }
   ],
   "source": [
    "model.summary()"
   ]
  },
  {
   "cell_type": "markdown",
   "metadata": {},
   "source": [
    "## Testing the model"
   ]
  },
  {
   "cell_type": "code",
   "execution_count": 15,
   "metadata": {},
   "outputs": [
    {
     "name": "stdout",
     "output_type": "stream",
     "text": [
      "[3.9104184e-06 2.8696113e-07 6.4500598e-03 9.9354362e-01 2.0804573e-06]\n",
      "0.9935436\n",
      "Orange\n"
     ]
    }
   ],
   "source": [
    "from tensorflow.keras.preprocessing import image\n",
    "import numpy as np\n",
    "test_img = test_dir + '/Orange/1.jpg'\n",
    "img = image.load_img(test_img, target_size = (128,128))\n",
    "img_array = image.img_to_array(img)\n",
    "img_array = np.array(img_array)/255.0\n",
    "img_array\n",
    "labels = dict((value,key) for key, value in train_labels.items())\n",
    "predictions = model.predict(img_array[np.newaxis, ...])\n",
    "print(predictions[0])\n",
    "print(np.max(predictions[0]))\n",
    "index = np.argmax(predictions[0])\n",
    "print(labels[np.argmax(predictions[0], axis = -1)])"
   ]
  },
  {
   "cell_type": "markdown",
   "metadata": {},
   "source": [
    "## Evaluating the result"
   ]
  },
  {
   "cell_type": "code",
   "execution_count": 16,
   "metadata": {},
   "outputs": [
    {
     "data": {
      "image/png": "[encoded data removed]",
      "text/plain": [
       "<Figure size 1080x1080 with 2 Axes>"
      ]
     },
     "metadata": {
      "needs_background": "light"
     },
     "output_type": "display_data"
    }
   ],
   "source": [
    "acc = trained_model.history['accuracy']\n",
    "val_acc = trained_model.history['val_accuracy']\n",
    "loss = trained_model.history['loss']\n",
    "val_loss = trained_model.history['val_loss']\n",
    "\n",
    "epochs_range = range(40)\n",
    "\n",
    "plt.figure(figsize=(15, 15))\n",
    "plt.subplot(2, 2, 1)\n",
    "plt.plot(epochs_range, acc, label='Training Accuracy')\n",
    "plt.plot(epochs_range, val_acc, label='Validation Accuracy')\n",
    "plt.legend(loc='lower right')\n",
    "plt.title('Training and Validation Accuracy')\n",
    "\n",
    "plt.subplot(2, 2, 2)\n",
    "plt.plot(epochs_range, loss, label='Training Loss')\n",
    "plt.plot(epochs_range, val_loss, label='Validation Loss')\n",
    "plt.legend(loc='upper right')\n",
    "plt.title('Training and Validation Loss')\n",
    "plt.show()"
   ]
  },
  {
   "cell_type": "code",
   "execution_count": null,
   "metadata": {},
   "outputs": [],
   "source": []
  }
 ],
 "metadata": {
  "kernelspec": {
   "display_name": "Python 3",
   "language": "python",
   "name": "python3"
  },
  "language_info": {
   "codemirror_mode": {
    "name": "ipython",
    "version": 3
   },
   "file_extension": ".py",
   "mimetype": "text/x-python",
   "name": "python",
   "nbconvert_exporter": "python",
   "pygments_lexer": "ipython3",
   "version": "3.8.5"
  }
 },
 "nbformat": 4,
 "nbformat_minor": 4
}
